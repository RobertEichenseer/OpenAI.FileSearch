{
 "cells": [
  {
   "cell_type": "markdown",
   "metadata": {},
   "source": [
    "# Azure OpenAI Assistants API | File Search Tool\n",
    "\n",
    "## Azure Environment\n",
    "\n",
    "Necessary parameter are imported from [application.env](../configuration/application.env). Check [setup](../setup/setup.ipynb) to setup the necessary demo environment.\n",
    "\n",
    "## Step 1: Create AssistantClient, FileClient and VectorStoreClient\n",
    "\n",
    "To utilize the file tool in the OpenAI Assistants API, an `AssistentClient` is required, which serves as the primary interface for interacting with a deployed Azure OpenAI instance. \n",
    "\n",
    "This client enables the creation of a `FileClient`, which facilitates the management of files used to ground prompts with specific context. \n",
    "\n",
    "Additionally, the `AssistantClient` can be used to instantiate a `VectorStoreClient`, which is responsible for creating a vector store. \n",
    "\n",
    "This store holds embeddings derived from the provided files and can be associated with a specific thread, allowing for enhanced contextual understanding and retrieval within a Run."
   ]
  },
  {
   "cell_type": "code",
   "execution_count": null,
   "metadata": {
    "dotnet_interactive": {
     "language": "csharp"
    },
    "polyglot_notebook": {
     "kernelName": "csharp"
    }
   },
   "outputs": [],
   "source": [
    "#r \"nuget: Azure.AI.OpenAI, 2.0.0-beta.2\"\n",
    "#r \"nuget: DotNetEnv, 2.5.0\"\n",
    "\n",
    "using DotNetEnv;\n",
    "using Azure.AI.OpenAI;\n",
    "using System.ClientModel;\n",
    "using OpenAI.Assistants;\n",
    "using OpenAI.Files;\n",
    "using OpenAI.VectorStores;\n",
    "\n",
    "\n",
    "//configuration file is created during environment creation\n",
    "static string configurationFile = @\"../configuration/application.env\";\n",
    "Env.Load(configurationFile);\n",
    "\n",
    "string oAiApiKey = Environment.GetEnvironmentVariable(\"ST_AOAI_APIKEY\") ?? \"WS_AOAI_APIKEY not found\";\n",
    "string oAiEndpoint = Environment.GetEnvironmentVariable(\"ST_AOAI_ENDPOINT\") ?? \"WS_AOAI_ENDPOINT not found\";\n",
    "string chatCompletionDeploymentName = Environment.GetEnvironmentVariable(\"ST_CHATCOMPLETION_DEPLOYMENTNAME\") ?? \"WS_CHATCompletion_DEPLOYMENTNAME not found\";\n",
    "string assetsFolder = Environment.GetEnvironmentVariable(\"ST_ASSETS_FOLDER\") ?? \"WS_ASSETS_FOLDER not found\";\n",
    "\n",
    "ApiKeyCredential apiKeyCredential = new ApiKeyCredential(oAiApiKey);\n",
    "AzureOpenAIClient azureOpenAIClient = new AzureOpenAIClient(new Uri(oAiEndpoint), apiKeyCredential);\n",
    "\n",
    "#pragma warning disable OPENAI001\n",
    "AssistantClient assistantClient = azureOpenAIClient.GetAssistantClient();\n",
    "FileClient fileClient = azureOpenAIClient.GetFileClient();\n",
    "VectorStoreClient vectorStoreClient = azureOpenAIClient.GetVectorStoreClient();\n",
    "\n",
    "Console.WriteLine($\"AzureOpenAI Client created...\");\n",
    "Console.WriteLine($\"AssistantClient created...\");\n",
    "Console.WriteLine($\"FileClient created...\");\n",
    "Console.WriteLine($\"VectorStoreClient created...\");"
   ]
  },
  {
   "cell_type": "markdown",
   "metadata": {},
   "source": [
    "## Step 2: Upload Files\n",
    "\n",
    "Uploads files from the [Grounding Files folder](../assets/grounding_data/) to the created Azure OpenAI instance. The folder contains two files: \n",
    "\n",
    "- [data_cuisine.txt](../assets/grounding_data/data_cuisine.txt): A list of fictitious restaurants in Berlin, Germany.\n",
    "- [cuisine_preference.txt](../assets/grounding_data/cuisine_preference.txt): contains information with dining preferences (*\"When Robert is in Berlin he likes Fine Dining with a View!\"*)\n",
    "\n",
    "The upload is performed using the initially created `FileClient`. "
   ]
  },
  {
   "cell_type": "code",
   "execution_count": null,
   "metadata": {
    "dotnet_interactive": {
     "language": "csharp"
    },
    "polyglot_notebook": {
     "kernelName": "csharp"
    }
   },
   "outputs": [],
   "source": [
    "using System.IO; \n",
    "\n",
    "string groundingDataFilePath = Path.Combine(assetsFolder, \"grounding_data\");\n",
    "\n",
    "//Upload grounding data files\n",
    "\n",
    "List<string> uploadedFiles = new List<string>();\n",
    "foreach (string fileName in Directory.GetFiles(groundingDataFilePath)) {\n",
    "    string remoteFileName = Path.GetFileName(fileName); \n",
    "    using (FileStream fileStream = new FileStream(fileName, FileMode.Open)) {\n",
    "        ClientResult<OpenAIFileInfo> uploadedFile = await fileClient.UploadFileAsync(\n",
    "            fileStream,\n",
    "            remoteFileName, \n",
    "            FileUploadPurpose.Assistants\n",
    "        );\n",
    "        \n",
    "        uploadedFiles.Add(uploadedFile.Value.Id);\n",
    "        Console.WriteLine($\"File {fileName} uploaded with id: '{uploadedFile.Value.Id}'\");\n",
    "    };\n",
    "}\n"
   ]
  },
  {
   "cell_type": "markdown",
   "metadata": {},
   "source": [
    "## Step 3: Create Vector Store \n",
    "\n",
    "With a `VectorStoreClient` instance, a new vector store can be created and add the previously uploaded files added to it. \n",
    "\n",
    "There's no need to manually create and provide embeddings, as the vector store automatically handles the processing of the uploaded files, enabling them to be utilized effectively for contextual understanding and retrieval within a Run."
   ]
  },
  {
   "cell_type": "code",
   "execution_count": null,
   "metadata": {
    "dotnet_interactive": {
     "language": "csharp"
    },
    "polyglot_notebook": {
     "kernelName": "csharp"
    }
   },
   "outputs": [],
   "source": [
    "VectorStoreCreationOptions vector_options = new VectorStoreCreationOptions\n",
    "{\n",
    "    Name = \"AssistantGroundingDemo\",\n",
    "    FileIds = uploadedFiles\n",
    "};\n",
    "\n",
    "ClientResult<VectorStore> vectorStore = await vectorStoreClient.CreateVectorStoreAsync(vector_options);\n",
    "VectorStoreStatus vectorStoreStatus = vectorStore.Value?.Status ?? default(VectorStoreStatus);\n",
    "\n",
    "//wait for vector store to be ready\n",
    "while (vectorStoreStatus == VectorStoreStatus.InProgress)\n",
    "{\n",
    "    await Task.Delay(1000);\n",
    "    vectorStore = await vectorStoreClient.GetVectorStoreAsync(vectorStore.Value?.Id);\n",
    "    vectorStoreStatus = vectorStore.Value?.Status ?? default(VectorStoreStatus);\n",
    "}\n",
    "Console.WriteLine($\"VectorStore created with id: '{vectorStore.Value.Id}' and status: '{vectorStoreStatus}'\");"
   ]
  },
  {
   "cell_type": "markdown",
   "metadata": {},
   "source": [
    "## Step 4: Create Assistant\n",
    "\n",
    "An `Assistant` object is created and instructed to just use provided information\"."
   ]
  },
  {
   "cell_type": "code",
   "execution_count": null,
   "metadata": {
    "dotnet_interactive": {
     "language": "csharp"
    },
    "polyglot_notebook": {
     "kernelName": "csharp"
    }
   },
   "outputs": [],
   "source": [
    "//crate assistant\n",
    "AssistantCreationOptions assistantCreationOptions = new AssistantCreationOptions()\n",
    "{\n",
    "    Name = \"Cuisine Assistant\",\n",
    "    Instructions = \"You help finding restaurants. You don't use data you're trained on. You just use information which is provided within the Thread.\",\n",
    "    Tools = { \n",
    "        ToolDefinition.CreateCodeInterpreter(), \n",
    "        ToolDefinition.CreateFileSearch()\n",
    "    },\n",
    "};\n",
    "\n",
    "Assistant assistant = await assistantClient.CreateAssistantAsync(\n",
    "    chatCompletionDeploymentName, \n",
    "    assistantCreationOptions\n",
    ");\n",
    "\n",
    "Console.WriteLine($\"Assistant created with id: '{assistant.Id}'\");\n",
    "\n",
    "\n"
   ]
  },
  {
   "cell_type": "markdown",
   "metadata": {},
   "source": [
    "## Step 5: Create Thread \n",
    "\n",
    "A `Thread` will be created with the initial user message:\n",
    "- *\"Suggest a restaurant for Robert when he's in Berlin.\"*\n",
    " \n",
    "Along with this message, the previously created vector store, which contains information about restaurants in Berlin and Robert's specific restaurant preferences, will be added to the thread. \n",
    "\n",
    "This ensures that the Assistant has access to relevant context, allowing it to provide more tailored and accurate restaurant suggestions for Robert."
   ]
  },
  {
   "cell_type": "code",
   "execution_count": null,
   "metadata": {},
   "outputs": [],
   "source": [
    "//create thread\n",
    "IList<MessageContent> messageContents = new List<MessageContent>(); \n",
    "MessageContent messageContent = MessageContent.FromText(\"Suggest a Restaurant for Robert when he's in Berlin?\");      \n",
    "messageContents.Add(messageContent);\n",
    "\n",
    "ThreadInitializationMessage threadInitializationMessage =  \n",
    "    new ThreadInitializationMessage(messageContents);\n",
    "\n",
    "ThreadCreationOptions threadCreationOptions = new ThreadCreationOptions(){\n",
    "    ToolResources = new ToolResources(){\n",
    "        FileSearch = new FileSearchToolResources(){\n",
    "            VectorStoreIds = new List<string> { vectorStore.Value?.Id ?? \"\" }\n",
    "        }\n",
    "    }\n",
    "};\n",
    "threadCreationOptions.InitialMessages.Add(threadInitializationMessage);\n",
    "AssistantThread assistantThread = await assistantClient.CreateThreadAsync(threadCreationOptions);\n",
    "\n",
    "Console.WriteLine($\"Thread created with id: '{assistantThread.Id}'\");\n"
   ]
  },
  {
   "cell_type": "markdown",
   "metadata": {},
   "source": [
    "## Step 6: Create Run\n",
    "\n",
    "A `Run` is created which brings together the `Assistant` and `Thread` object. During the Run the Assistant uses calls to the deployed gpt-4o instance to provide an accurate completion to the user message based on information provided in the vector store."
   ]
  },
  {
   "cell_type": "code",
   "execution_count": null,
   "metadata": {
    "dotnet_interactive": {
     "language": "csharp"
    },
    "polyglot_notebook": {
     "kernelName": "csharp"
    }
   },
   "outputs": [],
   "source": [
    "RunCreationOptions runCreationOptions = new RunCreationOptions()\n",
    "{\n",
    "    AdditionalInstructions = \"Reply with 'I don't know' if you can't answer the question.\"\n",
    "};\n",
    "\n",
    "ClientResult<ThreadRun> threadRun = await \n",
    "    assistantClient.CreateRunAsync(assistantThread, assistant, runCreationOptions);\n",
    "\n",
    "while (!(threadRun.Value.Status == RunStatus.Completed) && !(threadRun.Value.Status == RunStatus.Failed))\n",
    "{\n",
    "    await foreach(var runStep in assistantClient.GetRunStepsAsync(threadRun.Value.ThreadId, threadRun.Value.Id)){\n",
    "        Console.WriteLine($\"Step: {runStep.Id} - {runStep.Status}\");\n",
    "    };\n",
    "    \n",
    "    await Task.Delay(1000);\n",
    "    threadRun = await assistantClient.GetRunAsync(threadRun.Value.ThreadId, threadRun.Value.Id);\n",
    "}\n",
    "\n",
    "if (threadRun.Value.Status == RunStatus.Completed)\n",
    "{\n",
    "    await foreach(ThreadMessage threadMessage in assistantClient.GetMessagesAsync(assistantThread.Id)){\n",
    "        IReadOnlyList<MessageContent> messages = threadMessage.Content; \n",
    "        messages.AsEnumerable().ToList().ForEach(msg => Console.WriteLine(msg));\n",
    "        Console.WriteLine(\"\\n\\n\"); \n",
    "    };\n",
    "}\n",
    "else if (threadRun.Value.Status == RunStatus.Failed)\n",
    "{\n",
    "    Console.WriteLine($\"{threadRun.Value.LastError.Message}\");\n",
    "}\n"
   ]
  },
  {
   "cell_type": "markdown",
   "metadata": {},
   "source": [
    "## Step 6: Housekeeping\n",
    "\n",
    "- Assistant\n",
    "- Thread\n",
    "- Files\n",
    "- Vector Store\n",
    "\n",
    "will be removed."
   ]
  },
  {
   "cell_type": "code",
   "execution_count": null,
   "metadata": {
    "dotnet_interactive": {
     "language": "csharp"
    },
    "polyglot_notebook": {
     "kernelName": "csharp"
    }
   },
   "outputs": [],
   "source": [
    "await assistantClient.DeleteAssistantAsync(assistant);\n",
    "await assistantClient.DeleteThreadAsync(assistantThread);\n",
    "await _vectorStoreClient.DeleteVectorStoreAsync(vectorStore.Value?.Id);\n",
    "foreach (string fileId in uploadedFiles)\n",
    "{\n",
    "    await _fileClient.DeleteFileAsync(fileId);\n",
    "}\n",
    "\n",
    "Console.WriteLine($\"Assistant, Thread, VectorStore and uploaded files deleted...\");\n"
   ]
  }
 ],
 "metadata": {
  "kernelspec": {
   "display_name": ".NET (C#)",
   "language": "C#",
   "name": ".net-csharp"
  },
  "language_info": {
   "name": "polyglot-notebook"
  },
  "polyglot_notebook": {
   "kernelInfo": {
    "defaultKernelName": "csharp",
    "items": [
     {
      "aliases": [],
      "languageName": "csharp",
      "name": "csharp"
     }
    ]
   }
  }
 },
 "nbformat": 4,
 "nbformat_minor": 2
}
